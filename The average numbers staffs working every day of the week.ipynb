{
 "cells": [
  {
   "cell_type": "code",
   "execution_count": 29,
   "metadata": {},
   "outputs": [],
   "source": [
    "import pandas\n",
    "from pandas import DataFrame"
   ]
  },
  {
   "cell_type": "markdown",
   "metadata": {},
   "source": [
    "# Load file CSV"
   ]
  },
  {
   "cell_type": "code",
   "execution_count": 30,
   "metadata": {},
   "outputs": [
    {
     "data": {
      "text/html": [
       "<div>\n",
       "<style scoped>\n",
       "    .dataframe tbody tr th:only-of-type {\n",
       "        vertical-align: middle;\n",
       "    }\n",
       "\n",
       "    .dataframe tbody tr th {\n",
       "        vertical-align: top;\n",
       "    }\n",
       "\n",
       "    .dataframe thead th {\n",
       "        text-align: right;\n",
       "    }\n",
       "</style>\n",
       "<table border=\"1\" class=\"dataframe\">\n",
       "  <thead>\n",
       "    <tr style=\"text-align: right;\">\n",
       "      <th></th>\n",
       "      <th>StaffID</th>\n",
       "      <th>Wed</th>\n",
       "      <th>Thu</th>\n",
       "      <th>Fri</th>\n",
       "      <th>Sat</th>\n",
       "      <th>Sun</th>\n",
       "      <th>Mon</th>\n",
       "      <th>Tue</th>\n",
       "      <th>Wed.1</th>\n",
       "      <th>Thu.1</th>\n",
       "      <th>...</th>\n",
       "      <th>Tue.2</th>\n",
       "      <th>Wed.3</th>\n",
       "      <th>Thu.3</th>\n",
       "      <th>Fri.3</th>\n",
       "      <th>Sat.3</th>\n",
       "      <th>Sun.3</th>\n",
       "      <th>Mon.3</th>\n",
       "      <th>Tue.3</th>\n",
       "      <th>Wed.4</th>\n",
       "      <th>Thu.4</th>\n",
       "    </tr>\n",
       "  </thead>\n",
       "  <tbody>\n",
       "    <tr>\n",
       "      <th>0</th>\n",
       "      <td>A0002</td>\n",
       "      <td>1</td>\n",
       "      <td>1</td>\n",
       "      <td>UL</td>\n",
       "      <td>NaN</td>\n",
       "      <td>NaN</td>\n",
       "      <td>2</td>\n",
       "      <td>UL</td>\n",
       "      <td>2</td>\n",
       "      <td>UL</td>\n",
       "      <td>...</td>\n",
       "      <td>1</td>\n",
       "      <td>1</td>\n",
       "      <td>1</td>\n",
       "      <td>AL+/2</td>\n",
       "      <td>NaN</td>\n",
       "      <td>NaN</td>\n",
       "      <td>2</td>\n",
       "      <td>2</td>\n",
       "      <td>2</td>\n",
       "      <td>2</td>\n",
       "    </tr>\n",
       "    <tr>\n",
       "      <th>1</th>\n",
       "      <td>A0003</td>\n",
       "      <td>4</td>\n",
       "      <td>4</td>\n",
       "      <td>4</td>\n",
       "      <td>NaN</td>\n",
       "      <td>NaN</td>\n",
       "      <td>UL</td>\n",
       "      <td>UL</td>\n",
       "      <td>4</td>\n",
       "      <td>UL</td>\n",
       "      <td>...</td>\n",
       "      <td>4</td>\n",
       "      <td>4</td>\n",
       "      <td>4</td>\n",
       "      <td>AL/2</td>\n",
       "      <td>NaN</td>\n",
       "      <td>NaN</td>\n",
       "      <td>2</td>\n",
       "      <td>4</td>\n",
       "      <td>4</td>\n",
       "      <td>4</td>\n",
       "    </tr>\n",
       "    <tr>\n",
       "      <th>2</th>\n",
       "      <td>A0004</td>\n",
       "      <td>1</td>\n",
       "      <td>1</td>\n",
       "      <td>UL</td>\n",
       "      <td>NaN</td>\n",
       "      <td>NaN</td>\n",
       "      <td>2</td>\n",
       "      <td>UL</td>\n",
       "      <td>2</td>\n",
       "      <td>2</td>\n",
       "      <td>...</td>\n",
       "      <td>1</td>\n",
       "      <td>1</td>\n",
       "      <td>AL+/2</td>\n",
       "      <td>1</td>\n",
       "      <td>NaN</td>\n",
       "      <td>NaN</td>\n",
       "      <td>2</td>\n",
       "      <td>2</td>\n",
       "      <td>2</td>\n",
       "      <td>2</td>\n",
       "    </tr>\n",
       "    <tr>\n",
       "      <th>3</th>\n",
       "      <td>A0006</td>\n",
       "      <td>NaN</td>\n",
       "      <td>NaN</td>\n",
       "      <td>NaN</td>\n",
       "      <td>NaN</td>\n",
       "      <td>NaN</td>\n",
       "      <td>NaN</td>\n",
       "      <td>NaN</td>\n",
       "      <td>NaN</td>\n",
       "      <td>NaN</td>\n",
       "      <td>...</td>\n",
       "      <td>NaN</td>\n",
       "      <td>NaN</td>\n",
       "      <td>NaN</td>\n",
       "      <td>NaN</td>\n",
       "      <td>NaN</td>\n",
       "      <td>NaN</td>\n",
       "      <td>2</td>\n",
       "      <td>NaN</td>\n",
       "      <td>NaN</td>\n",
       "      <td>NaN</td>\n",
       "    </tr>\n",
       "    <tr>\n",
       "      <th>4</th>\n",
       "      <td>A0009</td>\n",
       "      <td>2</td>\n",
       "      <td>2</td>\n",
       "      <td>UL</td>\n",
       "      <td>NaN</td>\n",
       "      <td>NaN</td>\n",
       "      <td>1</td>\n",
       "      <td>UL</td>\n",
       "      <td>1</td>\n",
       "      <td>UL</td>\n",
       "      <td>...</td>\n",
       "      <td>AL+/2</td>\n",
       "      <td>2</td>\n",
       "      <td>2</td>\n",
       "      <td>AL</td>\n",
       "      <td>NaN</td>\n",
       "      <td>NaN</td>\n",
       "      <td>2</td>\n",
       "      <td>1</td>\n",
       "      <td>1</td>\n",
       "      <td>1</td>\n",
       "    </tr>\n",
       "    <tr>\n",
       "      <th>...</th>\n",
       "      <td>...</td>\n",
       "      <td>...</td>\n",
       "      <td>...</td>\n",
       "      <td>...</td>\n",
       "      <td>...</td>\n",
       "      <td>...</td>\n",
       "      <td>...</td>\n",
       "      <td>...</td>\n",
       "      <td>...</td>\n",
       "      <td>...</td>\n",
       "      <td>...</td>\n",
       "      <td>...</td>\n",
       "      <td>...</td>\n",
       "      <td>...</td>\n",
       "      <td>...</td>\n",
       "      <td>...</td>\n",
       "      <td>...</td>\n",
       "      <td>...</td>\n",
       "      <td>...</td>\n",
       "      <td>...</td>\n",
       "      <td>...</td>\n",
       "    </tr>\n",
       "    <tr>\n",
       "      <th>87</th>\n",
       "      <td>H0001</td>\n",
       "      <td>NaN</td>\n",
       "      <td>NaN</td>\n",
       "      <td>NaN</td>\n",
       "      <td>NaN</td>\n",
       "      <td>NaN</td>\n",
       "      <td>NaN</td>\n",
       "      <td>NaN</td>\n",
       "      <td>NaN</td>\n",
       "      <td>NaN</td>\n",
       "      <td>...</td>\n",
       "      <td>NaN</td>\n",
       "      <td>NaN</td>\n",
       "      <td>NaN</td>\n",
       "      <td>NaN</td>\n",
       "      <td>NaN</td>\n",
       "      <td>NaN</td>\n",
       "      <td>NaN</td>\n",
       "      <td>NaN</td>\n",
       "      <td>NaN</td>\n",
       "      <td>NaN</td>\n",
       "    </tr>\n",
       "    <tr>\n",
       "      <th>88</th>\n",
       "      <td>H0002</td>\n",
       "      <td>NaN</td>\n",
       "      <td>NaN</td>\n",
       "      <td>NaN</td>\n",
       "      <td>NaN</td>\n",
       "      <td>NaN</td>\n",
       "      <td>NaN</td>\n",
       "      <td>NaN</td>\n",
       "      <td>NaN</td>\n",
       "      <td>NaN</td>\n",
       "      <td>...</td>\n",
       "      <td>NaN</td>\n",
       "      <td>NaN</td>\n",
       "      <td>NaN</td>\n",
       "      <td>NaN</td>\n",
       "      <td>NaN</td>\n",
       "      <td>NaN</td>\n",
       "      <td>NaN</td>\n",
       "      <td>NaN</td>\n",
       "      <td>NaN</td>\n",
       "      <td>NaN</td>\n",
       "    </tr>\n",
       "    <tr>\n",
       "      <th>89</th>\n",
       "      <td>H0004</td>\n",
       "      <td>1</td>\n",
       "      <td>1</td>\n",
       "      <td>1</td>\n",
       "      <td>NaN</td>\n",
       "      <td>NaN</td>\n",
       "      <td>1</td>\n",
       "      <td>1</td>\n",
       "      <td>1</td>\n",
       "      <td>1</td>\n",
       "      <td>...</td>\n",
       "      <td>1</td>\n",
       "      <td>1</td>\n",
       "      <td>1</td>\n",
       "      <td>1</td>\n",
       "      <td>NaN</td>\n",
       "      <td>NaN</td>\n",
       "      <td>NaN</td>\n",
       "      <td>1</td>\n",
       "      <td>1</td>\n",
       "      <td>1</td>\n",
       "    </tr>\n",
       "    <tr>\n",
       "      <th>90</th>\n",
       "      <td>H0007</td>\n",
       "      <td>0</td>\n",
       "      <td>0</td>\n",
       "      <td>UL</td>\n",
       "      <td>NaN</td>\n",
       "      <td>NaN</td>\n",
       "      <td>UL/2</td>\n",
       "      <td>UL/2</td>\n",
       "      <td>UL/2</td>\n",
       "      <td>0</td>\n",
       "      <td>...</td>\n",
       "      <td>0</td>\n",
       "      <td>0</td>\n",
       "      <td>0</td>\n",
       "      <td>0</td>\n",
       "      <td>NaN</td>\n",
       "      <td>NaN</td>\n",
       "      <td>0</td>\n",
       "      <td>0</td>\n",
       "      <td>0</td>\n",
       "      <td>0</td>\n",
       "    </tr>\n",
       "    <tr>\n",
       "      <th>91</th>\n",
       "      <td>NaN</td>\n",
       "      <td>13.5</td>\n",
       "      <td>NaN</td>\n",
       "      <td>NaN</td>\n",
       "      <td>NaN</td>\n",
       "      <td>NaN</td>\n",
       "      <td>NaN</td>\n",
       "      <td>NaN</td>\n",
       "      <td>NaN</td>\n",
       "      <td>NaN</td>\n",
       "      <td>...</td>\n",
       "      <td>5.5</td>\n",
       "      <td>10</td>\n",
       "      <td>10</td>\n",
       "      <td>20</td>\n",
       "      <td>NaN</td>\n",
       "      <td>NaN</td>\n",
       "      <td>NaN</td>\n",
       "      <td>NaN</td>\n",
       "      <td>NaN</td>\n",
       "      <td>NaN</td>\n",
       "    </tr>\n",
       "  </tbody>\n",
       "</table>\n",
       "<p>92 rows × 31 columns</p>\n",
       "</div>"
      ],
      "text/plain": [
       "   StaffID   Wed  Thu  Fri  Sat  Sun   Mon   Tue Wed.1 Thu.1  ...  Tue.2  \\\n",
       "0    A0002     1    1   UL  NaN  NaN     2    UL     2    UL  ...      1   \n",
       "1    A0003     4    4    4  NaN  NaN    UL    UL     4    UL  ...      4   \n",
       "2    A0004     1    1   UL  NaN  NaN     2    UL     2     2  ...      1   \n",
       "3    A0006   NaN  NaN  NaN  NaN  NaN   NaN   NaN   NaN   NaN  ...    NaN   \n",
       "4    A0009     2    2   UL  NaN  NaN     1    UL     1    UL  ...  AL+/2   \n",
       "..     ...   ...  ...  ...  ...  ...   ...   ...   ...   ...  ...    ...   \n",
       "87   H0001   NaN  NaN  NaN  NaN  NaN   NaN   NaN   NaN   NaN  ...    NaN   \n",
       "88   H0002   NaN  NaN  NaN  NaN  NaN   NaN   NaN   NaN   NaN  ...    NaN   \n",
       "89   H0004     1    1    1  NaN  NaN     1     1     1     1  ...      1   \n",
       "90   H0007     0    0   UL  NaN  NaN  UL/2  UL/2  UL/2     0  ...      0   \n",
       "91     NaN  13.5  NaN  NaN  NaN  NaN   NaN   NaN   NaN   NaN  ...    5.5   \n",
       "\n",
       "    Wed.3  Thu.3  Fri.3 Sat.3 Sun.3 Mon.3 Tue.3  Wed.4  Thu.4  \n",
       "0       1      1  AL+/2   NaN   NaN     2     2      2      2  \n",
       "1       4      4   AL/2   NaN   NaN     2     4      4      4  \n",
       "2       1  AL+/2      1   NaN   NaN     2     2      2      2  \n",
       "3     NaN    NaN    NaN   NaN   NaN     2   NaN    NaN    NaN  \n",
       "4       2      2     AL   NaN   NaN     2     1      1      1  \n",
       "..    ...    ...    ...   ...   ...   ...   ...    ...    ...  \n",
       "87    NaN    NaN    NaN   NaN   NaN   NaN   NaN    NaN    NaN  \n",
       "88    NaN    NaN    NaN   NaN   NaN   NaN   NaN    NaN    NaN  \n",
       "89      1      1      1   NaN   NaN   NaN     1      1      1  \n",
       "90      0      0      0   NaN   NaN     0     0      0      0  \n",
       "91     10     10     20   NaN   NaN   NaN   NaN    NaN    NaN  \n",
       "\n",
       "[92 rows x 31 columns]"
      ]
     },
     "execution_count": 30,
     "metadata": {},
     "output_type": "execute_result"
    }
   ],
   "source": [
    "df = pandas.read_csv('ShiftLeave_2020-04_1.csv')\n",
    "df"
   ]
  },
  {
   "cell_type": "markdown",
   "metadata": {},
   "source": [
    "# Reshape dataframe using melt"
   ]
  },
  {
   "cell_type": "code",
   "execution_count": 31,
   "metadata": {},
   "outputs": [],
   "source": [
    "data = pandas.melt(df, id_vars=[\"StaffID\"], var_name=\"DayOfTheWeek\", value_name=\"Type\")"
   ]
  },
  {
   "cell_type": "markdown",
   "metadata": {},
   "source": [
    "Documentation:\n",
    "* https://pandas.pydata.org/docs/reference/api/pandas.melt.html\n",
    "* https://youtu.be/oY62o-tBHF4"
   ]
  },
  {
   "cell_type": "code",
   "execution_count": 32,
   "metadata": {},
   "outputs": [
    {
     "data": {
      "text/html": [
       "<div>\n",
       "<style scoped>\n",
       "    .dataframe tbody tr th:only-of-type {\n",
       "        vertical-align: middle;\n",
       "    }\n",
       "\n",
       "    .dataframe tbody tr th {\n",
       "        vertical-align: top;\n",
       "    }\n",
       "\n",
       "    .dataframe thead th {\n",
       "        text-align: right;\n",
       "    }\n",
       "</style>\n",
       "<table border=\"1\" class=\"dataframe\">\n",
       "  <thead>\n",
       "    <tr style=\"text-align: right;\">\n",
       "      <th></th>\n",
       "      <th>StaffID</th>\n",
       "      <th>DayOfTheWeek</th>\n",
       "      <th>Type</th>\n",
       "    </tr>\n",
       "  </thead>\n",
       "  <tbody>\n",
       "    <tr>\n",
       "      <th>0</th>\n",
       "      <td>A0002</td>\n",
       "      <td>Wed</td>\n",
       "      <td>1</td>\n",
       "    </tr>\n",
       "    <tr>\n",
       "      <th>1</th>\n",
       "      <td>A0003</td>\n",
       "      <td>Wed</td>\n",
       "      <td>4</td>\n",
       "    </tr>\n",
       "    <tr>\n",
       "      <th>2</th>\n",
       "      <td>A0004</td>\n",
       "      <td>Wed</td>\n",
       "      <td>1</td>\n",
       "    </tr>\n",
       "    <tr>\n",
       "      <th>3</th>\n",
       "      <td>A0006</td>\n",
       "      <td>Wed</td>\n",
       "      <td>NaN</td>\n",
       "    </tr>\n",
       "    <tr>\n",
       "      <th>4</th>\n",
       "      <td>A0009</td>\n",
       "      <td>Wed</td>\n",
       "      <td>2</td>\n",
       "    </tr>\n",
       "    <tr>\n",
       "      <th>...</th>\n",
       "      <td>...</td>\n",
       "      <td>...</td>\n",
       "      <td>...</td>\n",
       "    </tr>\n",
       "    <tr>\n",
       "      <th>2755</th>\n",
       "      <td>H0001</td>\n",
       "      <td>Thu.4</td>\n",
       "      <td>NaN</td>\n",
       "    </tr>\n",
       "    <tr>\n",
       "      <th>2756</th>\n",
       "      <td>H0002</td>\n",
       "      <td>Thu.4</td>\n",
       "      <td>NaN</td>\n",
       "    </tr>\n",
       "    <tr>\n",
       "      <th>2757</th>\n",
       "      <td>H0004</td>\n",
       "      <td>Thu.4</td>\n",
       "      <td>1</td>\n",
       "    </tr>\n",
       "    <tr>\n",
       "      <th>2758</th>\n",
       "      <td>H0007</td>\n",
       "      <td>Thu.4</td>\n",
       "      <td>0</td>\n",
       "    </tr>\n",
       "    <tr>\n",
       "      <th>2759</th>\n",
       "      <td>NaN</td>\n",
       "      <td>Thu.4</td>\n",
       "      <td>NaN</td>\n",
       "    </tr>\n",
       "  </tbody>\n",
       "</table>\n",
       "<p>2760 rows × 3 columns</p>\n",
       "</div>"
      ],
      "text/plain": [
       "     StaffID DayOfTheWeek Type\n",
       "0      A0002          Wed    1\n",
       "1      A0003          Wed    4\n",
       "2      A0004          Wed    1\n",
       "3      A0006          Wed  NaN\n",
       "4      A0009          Wed    2\n",
       "...      ...          ...  ...\n",
       "2755   H0001        Thu.4  NaN\n",
       "2756   H0002        Thu.4  NaN\n",
       "2757   H0004        Thu.4    1\n",
       "2758   H0007        Thu.4    0\n",
       "2759     NaN        Thu.4  NaN\n",
       "\n",
       "[2760 rows x 3 columns]"
      ]
     },
     "execution_count": 32,
     "metadata": {},
     "output_type": "execute_result"
    }
   ],
   "source": [
    "data"
   ]
  },
  {
   "attachments": {
    "Selection_001.png": {
     "image/png": "[encoded data removed]"
    }
   },
   "cell_type": "markdown",
   "metadata": {},
   "source": [
    "# Replace wrong dates format\n",
    "![Selection_001.png](attachment:Selection_001.png)"
   ]
  },
  {
   "cell_type": "code",
   "execution_count": 33,
   "metadata": {},
   "outputs": [],
   "source": [
    "_week = ['Mon', 'Tue', 'Wed', 'Thu', 'Fri', 'Sat', 'Sun']\n",
    "\n",
    "# Output: 1,2,3,4. \n",
    "#(Because we see the last row have DayOfTheWeek = Thu.4, \n",
    "#so we loop from 1 to 4)\n",
    "for i in range(1,5):\n",
    "    for day in range(len(_week)):\n",
    "        #Output: [day].[i]. Example: Thu.4\n",
    "        wrong_day = _week[day] + \".\" + str(i)\n",
    "        \n",
    "        #Repalce Thu.4 -> Thu\n",
    "        data['DayOfTheWeek'].replace(wrong_day, _week[day], inplace=True)"
   ]
  },
  {
   "cell_type": "markdown",
   "metadata": {},
   "source": [
    "Doccumentation: \n",
    "* range() function: https://pynative.com/python-range-function/\n",
    "* String in Python: https://vietjack.com/python/string_trong_python.jsp\n",
    "* Replace values given in to_replace with value:\n",
    "https://pandas.pydata.org/pandas-docs/stable/reference/api/pandas.DataFrame.replace.html\n",
    "https://stackoverflow.com/questions/31888871/pandas-replacing-column-values"
   ]
  },
  {
   "cell_type": "code",
   "execution_count": 34,
   "metadata": {},
   "outputs": [
    {
     "data": {
      "text/html": [
       "<div>\n",
       "<style scoped>\n",
       "    .dataframe tbody tr th:only-of-type {\n",
       "        vertical-align: middle;\n",
       "    }\n",
       "\n",
       "    .dataframe tbody tr th {\n",
       "        vertical-align: top;\n",
       "    }\n",
       "\n",
       "    .dataframe thead th {\n",
       "        text-align: right;\n",
       "    }\n",
       "</style>\n",
       "<table border=\"1\" class=\"dataframe\">\n",
       "  <thead>\n",
       "    <tr style=\"text-align: right;\">\n",
       "      <th></th>\n",
       "      <th>StaffID</th>\n",
       "      <th>DayOfTheWeek</th>\n",
       "      <th>Type</th>\n",
       "    </tr>\n",
       "  </thead>\n",
       "  <tbody>\n",
       "    <tr>\n",
       "      <th>0</th>\n",
       "      <td>A0002</td>\n",
       "      <td>Wed</td>\n",
       "      <td>1</td>\n",
       "    </tr>\n",
       "    <tr>\n",
       "      <th>1</th>\n",
       "      <td>A0003</td>\n",
       "      <td>Wed</td>\n",
       "      <td>4</td>\n",
       "    </tr>\n",
       "    <tr>\n",
       "      <th>2</th>\n",
       "      <td>A0004</td>\n",
       "      <td>Wed</td>\n",
       "      <td>1</td>\n",
       "    </tr>\n",
       "    <tr>\n",
       "      <th>3</th>\n",
       "      <td>A0006</td>\n",
       "      <td>Wed</td>\n",
       "      <td>NaN</td>\n",
       "    </tr>\n",
       "    <tr>\n",
       "      <th>4</th>\n",
       "      <td>A0009</td>\n",
       "      <td>Wed</td>\n",
       "      <td>2</td>\n",
       "    </tr>\n",
       "    <tr>\n",
       "      <th>...</th>\n",
       "      <td>...</td>\n",
       "      <td>...</td>\n",
       "      <td>...</td>\n",
       "    </tr>\n",
       "    <tr>\n",
       "      <th>2755</th>\n",
       "      <td>H0001</td>\n",
       "      <td>Thu</td>\n",
       "      <td>NaN</td>\n",
       "    </tr>\n",
       "    <tr>\n",
       "      <th>2756</th>\n",
       "      <td>H0002</td>\n",
       "      <td>Thu</td>\n",
       "      <td>NaN</td>\n",
       "    </tr>\n",
       "    <tr>\n",
       "      <th>2757</th>\n",
       "      <td>H0004</td>\n",
       "      <td>Thu</td>\n",
       "      <td>1</td>\n",
       "    </tr>\n",
       "    <tr>\n",
       "      <th>2758</th>\n",
       "      <td>H0007</td>\n",
       "      <td>Thu</td>\n",
       "      <td>0</td>\n",
       "    </tr>\n",
       "    <tr>\n",
       "      <th>2759</th>\n",
       "      <td>NaN</td>\n",
       "      <td>Thu</td>\n",
       "      <td>NaN</td>\n",
       "    </tr>\n",
       "  </tbody>\n",
       "</table>\n",
       "<p>2760 rows × 3 columns</p>\n",
       "</div>"
      ],
      "text/plain": [
       "     StaffID DayOfTheWeek Type\n",
       "0      A0002          Wed    1\n",
       "1      A0003          Wed    4\n",
       "2      A0004          Wed    1\n",
       "3      A0006          Wed  NaN\n",
       "4      A0009          Wed    2\n",
       "...      ...          ...  ...\n",
       "2755   H0001          Thu  NaN\n",
       "2756   H0002          Thu  NaN\n",
       "2757   H0004          Thu    1\n",
       "2758   H0007          Thu    0\n",
       "2759     NaN          Thu  NaN\n",
       "\n",
       "[2760 rows x 3 columns]"
      ]
     },
     "execution_count": 34,
     "metadata": {},
     "output_type": "execute_result"
    }
   ],
   "source": [
    "data"
   ]
  },
  {
   "cell_type": "markdown",
   "metadata": {},
   "source": [
    "# Drop rows have Type is null(NaN)"
   ]
  },
  {
   "attachments": {
    "Selection_002.png": {
     "image/png": "[encoded data removed]"
    }
   },
   "cell_type": "markdown",
   "metadata": {},
   "source": [
    "![Selection_002.png](attachment:Selection_002.png)"
   ]
  },
  {
   "cell_type": "code",
   "execution_count": 35,
   "metadata": {},
   "outputs": [],
   "source": [
    "data = data.dropna()"
   ]
  },
  {
   "cell_type": "markdown",
   "metadata": {},
   "source": [
    "Documentation:\n",
    "https://pandas.pydata.org/pandas-docs/stable/reference/api/pandas.DataFrame.dropna.html"
   ]
  },
  {
   "cell_type": "code",
   "execution_count": 36,
   "metadata": {},
   "outputs": [
    {
     "data": {
      "text/html": [
       "<div>\n",
       "<style scoped>\n",
       "    .dataframe tbody tr th:only-of-type {\n",
       "        vertical-align: middle;\n",
       "    }\n",
       "\n",
       "    .dataframe tbody tr th {\n",
       "        vertical-align: top;\n",
       "    }\n",
       "\n",
       "    .dataframe thead th {\n",
       "        text-align: right;\n",
       "    }\n",
       "</style>\n",
       "<table border=\"1\" class=\"dataframe\">\n",
       "  <thead>\n",
       "    <tr style=\"text-align: right;\">\n",
       "      <th></th>\n",
       "      <th>StaffID</th>\n",
       "      <th>DayOfTheWeek</th>\n",
       "      <th>Type</th>\n",
       "    </tr>\n",
       "  </thead>\n",
       "  <tbody>\n",
       "    <tr>\n",
       "      <th>0</th>\n",
       "      <td>A0002</td>\n",
       "      <td>Wed</td>\n",
       "      <td>1</td>\n",
       "    </tr>\n",
       "    <tr>\n",
       "      <th>1</th>\n",
       "      <td>A0003</td>\n",
       "      <td>Wed</td>\n",
       "      <td>4</td>\n",
       "    </tr>\n",
       "    <tr>\n",
       "      <th>2</th>\n",
       "      <td>A0004</td>\n",
       "      <td>Wed</td>\n",
       "      <td>1</td>\n",
       "    </tr>\n",
       "    <tr>\n",
       "      <th>4</th>\n",
       "      <td>A0009</td>\n",
       "      <td>Wed</td>\n",
       "      <td>2</td>\n",
       "    </tr>\n",
       "    <tr>\n",
       "      <th>5</th>\n",
       "      <td>A0010</td>\n",
       "      <td>Wed</td>\n",
       "      <td>1</td>\n",
       "    </tr>\n",
       "    <tr>\n",
       "      <th>...</th>\n",
       "      <td>...</td>\n",
       "      <td>...</td>\n",
       "      <td>...</td>\n",
       "    </tr>\n",
       "    <tr>\n",
       "      <th>2751</th>\n",
       "      <td>J0077</td>\n",
       "      <td>Thu</td>\n",
       "      <td>2</td>\n",
       "    </tr>\n",
       "    <tr>\n",
       "      <th>2752</th>\n",
       "      <td>J0078</td>\n",
       "      <td>Thu</td>\n",
       "      <td>1</td>\n",
       "    </tr>\n",
       "    <tr>\n",
       "      <th>2753</th>\n",
       "      <td>J0079</td>\n",
       "      <td>Thu</td>\n",
       "      <td>2</td>\n",
       "    </tr>\n",
       "    <tr>\n",
       "      <th>2757</th>\n",
       "      <td>H0004</td>\n",
       "      <td>Thu</td>\n",
       "      <td>1</td>\n",
       "    </tr>\n",
       "    <tr>\n",
       "      <th>2758</th>\n",
       "      <td>H0007</td>\n",
       "      <td>Thu</td>\n",
       "      <td>0</td>\n",
       "    </tr>\n",
       "  </tbody>\n",
       "</table>\n",
       "<p>1871 rows × 3 columns</p>\n",
       "</div>"
      ],
      "text/plain": [
       "     StaffID DayOfTheWeek Type\n",
       "0      A0002          Wed    1\n",
       "1      A0003          Wed    4\n",
       "2      A0004          Wed    1\n",
       "4      A0009          Wed    2\n",
       "5      A0010          Wed    1\n",
       "...      ...          ...  ...\n",
       "2751   J0077          Thu    2\n",
       "2752   J0078          Thu    1\n",
       "2753   J0079          Thu    2\n",
       "2757   H0004          Thu    1\n",
       "2758   H0007          Thu    0\n",
       "\n",
       "[1871 rows x 3 columns]"
      ]
     },
     "execution_count": 36,
     "metadata": {},
     "output_type": "execute_result"
    }
   ],
   "source": [
    "data"
   ]
  },
  {
   "cell_type": "raw",
   "metadata": {},
   "source": [
    "Now we have the standard data"
   ]
  },
  {
   "cell_type": "markdown",
   "metadata": {},
   "source": [
    "# Calculate the average number of staffs working every day of the week "
   ]
  },
  {
   "cell_type": "raw",
   "metadata": {},
   "source": [
    "Let us now assume the average number of staffs working on Monday"
   ]
  },
  {
   "cell_type": "raw",
   "metadata": {},
   "source": [
    "The total number of workings day on Monday"
   ]
  },
  {
   "cell_type": "code",
   "execution_count": 37,
   "metadata": {},
   "outputs": [
    {
     "name": "stdout",
     "output_type": "stream",
     "text": [
      "     StaffID DayOfTheWeek Type\n",
      "460    A0002          Mon    2\n",
      "461    A0003          Mon   UL\n",
      "462    A0004          Mon    2\n",
      "464    A0009          Mon    1\n",
      "465    A0010          Mon   UL\n",
      "...      ...          ...  ...\n",
      "2474   J0075          Mon    2\n",
      "2475   J0077          Mon    2\n",
      "2476   J0078          Mon    2\n",
      "2477   J0079          Mon    2\n",
      "2482   H0007          Mon    0\n",
      "\n",
      "[341 rows x 3 columns]\n",
      "Total: 341\n"
     ]
    }
   ],
   "source": [
    "workings_day = data[data['DayOfTheWeek'] == 'Mon']\n",
    "print(workings_day)\n",
    "print(\"Total:\", len(workings_day))"
   ]
  },
  {
   "cell_type": "raw",
   "metadata": {},
   "source": [
    "The total number of days staffs working on Monday"
   ]
  },
  {
   "cell_type": "code",
   "execution_count": 38,
   "metadata": {},
   "outputs": [
    {
     "name": "stdout",
     "output_type": "stream",
     "text": [
      "     StaffID DayOfTheWeek Type\n",
      "460    A0002          Mon    2\n",
      "462    A0004          Mon    2\n",
      "464    A0009          Mon    1\n",
      "467    A0016          Mon    1\n",
      "475    A0043          Mon    2\n",
      "...      ...          ...  ...\n",
      "2474   J0075          Mon    2\n",
      "2475   J0077          Mon    2\n",
      "2476   J0078          Mon    2\n",
      "2477   J0079          Mon    2\n",
      "2482   H0007          Mon    0\n",
      "\n",
      "[236 rows x 3 columns]\n",
      "Total: 236\n"
     ]
    }
   ],
   "source": [
    " staffs_working = data[(data['Type'].isin(['0', '1', '2', '3', '4'])) & (data['DayOfTheWeek'] == 'Mon')]\n",
    " print(staffs_working)\n",
    "print(\"Total:\", len(staffs_working))"
   ]
  },
  {
   "cell_type": "raw",
   "metadata": {},
   "source": [
    "The average percentage of staffs working on Monday = \n",
    "    the total number of days staffs working on Monday / the total number of workings day on Monday * 100 "
   ]
  },
  {
   "cell_type": "markdown",
   "metadata": {},
   "source": [
    "(Here is : 236 / 341 * 100)"
   ]
  },
  {
   "cell_type": "code",
   "execution_count": 41,
   "metadata": {},
   "outputs": [
    {
     "name": "stdout",
     "output_type": "stream",
     "text": [
      "The average percentage of staffs working on Monday: 69%\n"
     ]
    }
   ],
   "source": [
    "try:\n",
    "    average_percentage = len(staffs_working) / len(workings_day) * 100\n",
    "except ZeroDivisionError:\n",
    "    average_percentage = 0\n",
    "print(\"The average percentage of staffs working on Monday: \" + str(round(average_percentage)) + \"%\")"
   ]
  },
  {
   "cell_type": "markdown",
   "metadata": {},
   "source": [
    "****************************************************************"
   ]
  },
  {
   "cell_type": "raw",
   "metadata": {},
   "source": [
    "# Final result: \n",
    "The average number of staffs working = \n",
    "    The total number of staffs / 100 * Percentage average of staffs working"
   ]
  },
  {
   "cell_type": "markdown",
   "metadata": {},
   "source": [
    "First, we calculate the total number of staffs"
   ]
  },
  {
   "cell_type": "code",
   "execution_count": 42,
   "metadata": {},
   "outputs": [
    {
     "name": "stdout",
     "output_type": "stream",
     "text": [
      "The total number of staffs:  87\n"
     ]
    }
   ],
   "source": [
    "print(\"The total number of staffs: \", round(data['StaffID'].nunique()))"
   ]
  },
  {
   "cell_type": "markdown",
   "metadata": {},
   "source": [
    "#The average number of staffs working on Monday = 87 / 100 * 69."
   ]
  },
  {
   "cell_type": "code",
   "execution_count": 43,
   "metadata": {},
   "outputs": [
    {
     "name": "stdout",
     "output_type": "stream",
     "text": [
      "The average number of staffs working on Monday:  60\n"
     ]
    }
   ],
   "source": [
    "average_number = data['StaffID'].nunique() / 100 * average_percentage\n",
    "print(\"The average number of staffs working on Monday: \", round(average_number))"
   ]
  },
  {
   "cell_type": "markdown",
   "metadata": {},
   "source": [
    "**************************************************************"
   ]
  },
  {
   "cell_type": "markdown",
   "metadata": {},
   "source": [
    "##### NOW, WE ARE USE LOOP FOR CALACULATE EVERY DAY OF THE WEEK"
   ]
  },
  {
   "cell_type": "markdown",
   "metadata": {},
   "source": [
    "First, create dataframe is the final list of results, with columns DayOfTheWeek, AverageNumber"
   ]
  },
  {
   "cell_type": "code",
   "execution_count": 44,
   "metadata": {},
   "outputs": [],
   "source": [
    "result = pandas.DataFrame(columns=['DayOfTheWeek', 'AverageNumber'])"
   ]
  },
  {
   "cell_type": "code",
   "execution_count": 45,
   "metadata": {},
   "outputs": [],
   "source": [
    "for day_of_the_week in range(len(_week)):\n",
    "    workings_day = data[data['DayOfTheWeek'] ==_week[day_of_the_week]]\n",
    "\n",
    "    staffs_working = data[(data['Type'].isin(['0', '1', '2', '3', '4'])) & (data['DayOfTheWeek'] == _week[day_of_the_week])]\n",
    "\n",
    "    try:\n",
    "        average_percentage = len(staffs_working)/len(workings_day)*100\n",
    "    except ZeroDivisionError:\n",
    "        average_percentage = 0\n",
    "    \n",
    "    average_number = data['StaffID'].nunique() / 100 * average_percentage\n",
    "    \n",
    "    result = result.append({'DayOfTheWeek': _week[day_of_the_week], 'AverageNumber': round(average_number)}, ignore_index=True)"
   ]
  },
  {
   "cell_type": "markdown",
   "metadata": {},
   "source": [
    "Documentation: \n",
    "* Select Rows in DataFrame by conditions on multiple columns:\n",
    "https://thispointer.com/python-pandas-select-rows-in-dataframe-by-conditions-on-multiple-columns/\n",
    "\n",
    "* nunique():\n",
    "https://pandas.pydata.org/pandas-docs/stable/reference/api/pandas.Series.nunique.html\n",
    "\n",
    "* append values to dataframe:\n",
    "https://pandas.pydata.org/pandas-docs/stable/reference/api/pandas.DataFrame.append.html"
   ]
  },
  {
   "cell_type": "markdown",
   "metadata": {},
   "source": [
    "# Result final:"
   ]
  },
  {
   "cell_type": "code",
   "execution_count": 46,
   "metadata": {},
   "outputs": [
    {
     "name": "stdout",
     "output_type": "stream",
     "text": [
      "\n",
      "\n",
      "*****The average number staffs working on every day of the week:*****\n",
      "\n"
     ]
    },
    {
     "data": {
      "text/html": [
       "<div>\n",
       "<style scoped>\n",
       "    .dataframe tbody tr th:only-of-type {\n",
       "        vertical-align: middle;\n",
       "    }\n",
       "\n",
       "    .dataframe tbody tr th {\n",
       "        vertical-align: top;\n",
       "    }\n",
       "\n",
       "    .dataframe thead th {\n",
       "        text-align: right;\n",
       "    }\n",
       "</style>\n",
       "<table border=\"1\" class=\"dataframe\">\n",
       "  <thead>\n",
       "    <tr style=\"text-align: right;\">\n",
       "      <th></th>\n",
       "      <th>DayOfTheWeek</th>\n",
       "      <th>AverageNumber</th>\n",
       "    </tr>\n",
       "  </thead>\n",
       "  <tbody>\n",
       "    <tr>\n",
       "      <th>0</th>\n",
       "      <td>Mon</td>\n",
       "      <td>60</td>\n",
       "    </tr>\n",
       "    <tr>\n",
       "      <th>1</th>\n",
       "      <td>Tue</td>\n",
       "      <td>62</td>\n",
       "    </tr>\n",
       "    <tr>\n",
       "      <th>2</th>\n",
       "      <td>Wed</td>\n",
       "      <td>63</td>\n",
       "    </tr>\n",
       "    <tr>\n",
       "      <th>3</th>\n",
       "      <td>Thu</td>\n",
       "      <td>72</td>\n",
       "    </tr>\n",
       "    <tr>\n",
       "      <th>4</th>\n",
       "      <td>Fri</td>\n",
       "      <td>49</td>\n",
       "    </tr>\n",
       "    <tr>\n",
       "      <th>5</th>\n",
       "      <td>Sat</td>\n",
       "      <td>0</td>\n",
       "    </tr>\n",
       "    <tr>\n",
       "      <th>6</th>\n",
       "      <td>Sun</td>\n",
       "      <td>0</td>\n",
       "    </tr>\n",
       "  </tbody>\n",
       "</table>\n",
       "</div>"
      ],
      "text/plain": [
       "  DayOfTheWeek AverageNumber\n",
       "0          Mon            60\n",
       "1          Tue            62\n",
       "2          Wed            63\n",
       "3          Thu            72\n",
       "4          Fri            49\n",
       "5          Sat             0\n",
       "6          Sun             0"
      ]
     },
     "execution_count": 46,
     "metadata": {},
     "output_type": "execute_result"
    }
   ],
   "source": [
    "print(\"\\n\\n*****The average number staffs working on every day of the week:*****\\n\")\n",
    "result"
   ]
  }
 ],
 "metadata": {
  "kernelspec": {
   "display_name": "Python 3",
   "language": "python",
   "name": "python3"
  },
  "language_info": {
   "codemirror_mode": {
    "name": "ipython",
    "version": 3
   },
   "file_extension": ".py",
   "mimetype": "text/x-python",
   "name": "python",
   "nbconvert_exporter": "python",
   "pygments_lexer": "ipython3",
   "version": "3.7.6"
  }
 },
 "nbformat": 4,
 "nbformat_minor": 4
}
